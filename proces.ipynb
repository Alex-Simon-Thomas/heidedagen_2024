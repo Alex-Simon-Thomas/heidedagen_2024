{
 "cells": [
  {
   "cell_type": "code",
   "execution_count": 235,
   "metadata": {},
   "outputs": [],
   "source": [
    "import json\n",
    "import pandas as pd\n",
    "import numpy as np\n",
    "from geopy.geocoders import Nominatim\n",
    "from geopy.exc import GeocoderTimedOut\n",
    "from math import sin, cos, sqrt, atan2, radians\n",
    "\n",
    "#coordinates for starting location amsterdam schiphol airport\n",
    "schiphol_lat = 52.3080392\n",
    "schiphol_lon = 4.7621975"
   ]
  },
  {
   "cell_type": "code",
   "execution_count": 236,
   "metadata": {},
   "outputs": [],
   "source": [
    "def get_latitude(city_name):\n",
    "    try:\n",
    "        geolocator = Nominatim(user_agent=\"airport_locator\")\n",
    "        location = geolocator.geocode(city_name)\n",
    "        if location:\n",
    "            return location.latitude\n",
    "        else:\n",
    "            None\n",
    "    except GeocoderTimedOut:\n",
    "        return None\n",
    "    \n",
    "def get_longitude(city_name):\n",
    "    try:\n",
    "        geolocator = Nominatim(user_agent=\"airport_locator\")\n",
    "        location = geolocator.geocode(city_name)\n",
    "        if location:\n",
    "            return location.longitude\n",
    "        else:\n",
    "            None\n",
    "    except GeocoderTimedOut:\n",
    "        return None\n",
    "\n",
    "\n",
    "def is_airport_south_of_amsterdam(row):\n",
    "    amsterdam_latitude = get_latitude(\"Amsterdam, Netherlands\")\n",
    "    airport_latitude = get_latitude(f\"{row['destinations']}, {row['country']}\")\n",
    "\n",
    "    if amsterdam_latitude is None or airport_latitude is None:\n",
    "        return False\n",
    "\n",
    "    return airport_latitude < amsterdam_latitude"
   ]
  },
  {
   "cell_type": "code",
   "execution_count": 237,
   "metadata": {},
   "outputs": [],
   "source": [
    "def calculate_distance(row, schiphol_lat, schiphol_lon):\n",
    "    R = 6373.0\n",
    "    lat1 = radians(schiphol_lat)\n",
    "    lon1 = radians(schiphol_lon)\n",
    "    lat2 = radians(row['latitude'])\n",
    "    lon2 = radians(row['longitude'])\n",
    "    dlon = lon2 - lon1\n",
    "    dlat = lat2 - lat1\n",
    "    a = sin(dlat / 2)**2 + cos(lat1) * cos(lat2) * sin(dlon / 2)**2\n",
    "    c = 2 * atan2(sqrt(a), sqrt(1 - a))\n",
    "    distance = R * c\n",
    "    return distance"
   ]
  },
  {
   "cell_type": "code",
   "execution_count": 254,
   "metadata": {},
   "outputs": [],
   "source": [
    "# Specify the path to the JSON file\n",
    "file_path = 'flightlist.json'\n",
    "\n",
    "# Open the JSON file and load its contents\n",
    "with open(file_path, 'r') as file:\n",
    "    flight_list = json.load(file)\n"
   ]
  },
  {
   "cell_type": "code",
   "execution_count": 269,
   "metadata": {},
   "outputs": [],
   "source": [
    "df_flight = pd.DataFrame(flight_list['flights'])\n",
    "df_flight[['destinations', 'eu', 'visa']] = pd.DataFrame(df_flight['route'].tolist(), index=df_flight.index)\n",
    "df_flight = df_flight[df_flight['serviceType'] == 'J']\n",
    "df_flight['destinations'] = df_flight['destinations'].str[0]\n",
    "df_flight = df_flight[['flightName', 'flightNumber', 'id','destinations', 'eu', 'scheduleTime']]\n",
    "df_flight.reset_index(drop=True, inplace=True)"
   ]
  },
  {
   "cell_type": "code",
   "execution_count": 264,
   "metadata": {},
   "outputs": [],
   "source": [
    "# Specify the path to the JSON file\n",
    "file_path = 'destinationList.json'\n",
    "\n",
    "# Open the JSON file and load its contents\n",
    "with open(file_path, 'r') as file:\n",
    "    destinationList = json.load(file)\n"
   ]
  },
  {
   "cell_type": "code",
   "execution_count": 265,
   "metadata": {},
   "outputs": [
    {
     "data": {
      "text/html": [
       "<div>\n",
       "<style scoped>\n",
       "    .dataframe tbody tr th:only-of-type {\n",
       "        vertical-align: middle;\n",
       "    }\n",
       "\n",
       "    .dataframe tbody tr th {\n",
       "        vertical-align: top;\n",
       "    }\n",
       "\n",
       "    .dataframe thead th {\n",
       "        text-align: right;\n",
       "    }\n",
       "</style>\n",
       "<table border=\"1\" class=\"dataframe\">\n",
       "  <thead>\n",
       "    <tr style=\"text-align: right;\">\n",
       "      <th></th>\n",
       "      <th>iata</th>\n",
       "      <th>country</th>\n",
       "      <th>city</th>\n",
       "      <th>dutch</th>\n",
       "      <th>english</th>\n",
       "    </tr>\n",
       "  </thead>\n",
       "  <tbody>\n",
       "    <tr>\n",
       "      <th>0</th>\n",
       "      <td>AAA</td>\n",
       "      <td>French Polynes</td>\n",
       "      <td>NaN</td>\n",
       "      <td>Anaa, TU</td>\n",
       "      <td>Anaa, TU</td>\n",
       "    </tr>\n",
       "    <tr>\n",
       "      <th>1</th>\n",
       "      <td>AAB</td>\n",
       "      <td>Australia</td>\n",
       "      <td>NaN</td>\n",
       "      <td>Arrabury, QL</td>\n",
       "      <td>Arrabury, QL</td>\n",
       "    </tr>\n",
       "    <tr>\n",
       "      <th>2</th>\n",
       "      <td>AAC</td>\n",
       "      <td>Egypt</td>\n",
       "      <td>Al-Arish</td>\n",
       "      <td>Al-Arish</td>\n",
       "      <td>Al-Arish</td>\n",
       "    </tr>\n",
       "    <tr>\n",
       "      <th>3</th>\n",
       "      <td>AAD</td>\n",
       "      <td>Sudan</td>\n",
       "      <td>Ad-Dabbah</td>\n",
       "      <td>Ad-Dabbah</td>\n",
       "      <td>Ad-Dabbah</td>\n",
       "    </tr>\n",
       "    <tr>\n",
       "      <th>4</th>\n",
       "      <td>AAE</td>\n",
       "      <td>Algeria</td>\n",
       "      <td>Annaba</td>\n",
       "      <td>Annaba</td>\n",
       "      <td>Annaba</td>\n",
       "    </tr>\n",
       "  </tbody>\n",
       "</table>\n",
       "</div>"
      ],
      "text/plain": [
       "  iata         country       city         dutch       english\n",
       "0  AAA  French Polynes        NaN      Anaa, TU      Anaa, TU\n",
       "1  AAB       Australia        NaN  Arrabury, QL  Arrabury, QL\n",
       "2  AAC           Egypt   Al-Arish      Al-Arish      Al-Arish\n",
       "3  AAD           Sudan  Ad-Dabbah     Ad-Dabbah     Ad-Dabbah\n",
       "4  AAE         Algeria     Annaba        Annaba        Annaba"
      ]
     },
     "execution_count": 265,
     "metadata": {},
     "output_type": "execute_result"
    }
   ],
   "source": [
    "df_destination = pd.DataFrame(destinationList['destinations'])\n",
    "df_destination[['dutch', 'english']] = pd.DataFrame(df_destination['publicName'].tolist(), index=df_destination.index)\n",
    "df_destination = df_destination[['iata', 'country', 'city', 'dutch', 'english']]\n",
    "df_destination.head()"
   ]
  },
  {
   "cell_type": "code",
   "execution_count": 267,
   "metadata": {},
   "outputs": [
    {
     "name": "stdout",
     "output_type": "stream",
     "text": [
      "<class 'pandas.core.frame.DataFrame'>\n",
      "RangeIndex: 94 entries, 0 to 93\n",
      "Data columns (total 10 columns):\n",
      " #   Column        Non-Null Count  Dtype \n",
      "---  ------        --------------  ----- \n",
      " 0   flightName    94 non-null     object\n",
      " 1   flightNumber  94 non-null     int64 \n",
      " 2   id            94 non-null     object\n",
      " 3   eu            94 non-null     object\n",
      " 4   scheduleTime  94 non-null     object\n",
      " 5   destinations  94 non-null     object\n",
      " 6   country       94 non-null     object\n",
      " 7   city          94 non-null     object\n",
      " 8   dutch         94 non-null     object\n",
      " 9   english       94 non-null     object\n",
      "dtypes: int64(1), object(9)\n",
      "memory usage: 7.5+ KB\n"
     ]
    }
   ],
   "source": [
    "df_combined = df_flight.merge(df_destination, left_on='destinations', right_on='iata', how='left')\n",
    "df_combined = df_combined[['flightName', 'flightNumber', 'id',  'eu', 'scheduleTime','destinations', 'country', 'city', 'dutch', 'english']]\n"
   ]
  },
  {
   "cell_type": "code",
   "execution_count": 270,
   "metadata": {},
   "outputs": [],
   "source": [
    "df_coordinates = df_combined\n",
    "df_coordinates['latitude'] = df_coordinates.apply(lambda row: get_latitude(f\"{row['destinations']}, {row['country']}\"), axis=1)\n",
    "df_coordinates['longitude'] = df_coordinates.apply(lambda row: get_longitude(f\"{row['destinations']}, {row['country']}\"), axis=1) \n"
   ]
  },
  {
   "cell_type": "code",
   "execution_count": 271,
   "metadata": {},
   "outputs": [],
   "source": [
    "df_coordinates['south_of_amsterdam'] = df_coordinates.apply(is_airport_south_of_amsterdam, axis=1)\n"
   ]
  },
  {
   "cell_type": "code",
   "execution_count": 272,
   "metadata": {},
   "outputs": [],
   "source": [
    "df_distance = df_coordinates\n",
    "df_distance['distance_to_schiphol'] = df_distance.apply(lambda row: calculate_distance(row, schiphol_lat, schiphol_lon), axis=1)"
   ]
  },
  {
   "cell_type": "code",
   "execution_count": 280,
   "metadata": {},
   "outputs": [],
   "source": [
    "# Create the final DataFrame with filtering and sorting\n",
    "df_final = df_distance[\n",
    "    (df_distance['distance_to_schiphol'] < 1900) & \n",
    "    (df_distance['south_of_amsterdam']) \n",
    "].sort_values(by='distance_to_schiphol').reset_index(drop=True)"
   ]
  },
  {
   "cell_type": "code",
   "execution_count": 286,
   "metadata": {},
   "outputs": [],
   "source": [
    "df_airports = df_final[['destinations', 'city', 'dutch', 'latitude','longitude']].drop_duplicates(subset=['destinations'])\n"
   ]
  },
  {
   "cell_type": "code",
   "execution_count": 287,
   "metadata": {},
   "outputs": [],
   "source": [
    "#save the dataframe to a csv file\n",
    "df_final.to_csv(\"final_output.csv\", index=False)\n",
    "df_airports.to_csv(\"airports.csv\", index=False)"
   ]
  }
 ],
 "metadata": {
  "kernelspec": {
   "display_name": ".venv",
   "language": "python",
   "name": "python3"
  },
  "language_info": {
   "codemirror_mode": {
    "name": "ipython",
    "version": 3
   },
   "file_extension": ".py",
   "mimetype": "text/x-python",
   "name": "python",
   "nbconvert_exporter": "python",
   "pygments_lexer": "ipython3",
   "version": "3.11.8"
  }
 },
 "nbformat": 4,
 "nbformat_minor": 2
}
